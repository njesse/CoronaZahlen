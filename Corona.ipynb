{
 "cells": [
  {
   "cell_type": "code",
   "execution_count": 1,
   "metadata": {},
   "outputs": [],
   "source": [
    "import requests\n",
    "import json"
   ]
  },
  {
   "cell_type": "code",
   "execution_count": 2,
   "metadata": {},
   "outputs": [],
   "source": [
    "landkreise = ['LK Friesland','SK Wilhelmshaven','LK Gießen']"
   ]
  },
  {
   "cell_type": "code",
   "execution_count": 3,
   "metadata": {},
   "outputs": [],
   "source": [
    "url_anfang = 'https://services7.arcgis.com/mOBPykOjAyBO2ZKk/arcgis/rest/services/RKI_COVID19/FeatureServer/0/query?where='"
   ]
  },
  {
   "cell_type": "code",
   "execution_count": 4,
   "metadata": {},
   "outputs": [],
   "source": [
    "url_landkreise = \"\"\n",
    "for landkreis in landkreise:\n",
    "    if len(url_landkreise)>0: url_landkreise = url_landkreise + '+OR+'\n",
    "    url_landkreise = url_landkreise + 'Landkreis+%3D+%27' + landkreis.replace(\" \",\"+\") + '%27'"
   ]
  },
  {
   "cell_type": "code",
   "execution_count": 5,
   "metadata": {},
   "outputs": [
    {
     "data": {
      "text/plain": [
       "'Landkreis+%3D+%27LK+Friesland%27+OR+Landkreis+%3D+%27SK+Wilhelmshaven%27+OR+Landkreis+%3D+%27LK+Gießen%27'"
      ]
     },
     "execution_count": 5,
     "metadata": {},
     "output_type": "execute_result"
    }
   ],
   "source": [
    "url_landkreise"
   ]
  },
  {
   "cell_type": "code",
   "execution_count": 6,
   "metadata": {},
   "outputs": [],
   "source": [
    "url_ende = '&objectIds=&time=&resultType=none&outFields=*&returnIdsOnly=false&returnUniqueIdsOnly=false&returnCountOnly=false&returnDistinctValues=false&cacheHint=false&orderByFields=&groupByFieldsForStatistics=&outStatistics=&having=&resultOffset=&resultRecordCount=&sqlFormat=none&f=pjson&token='"
   ]
  },
  {
   "cell_type": "code",
   "execution_count": 7,
   "metadata": {},
   "outputs": [],
   "source": [
    "resp = requests.get(url_anfang + url_landkreise + url_ende)"
   ]
  },
  {
   "cell_type": "code",
   "execution_count": 8,
   "metadata": {},
   "outputs": [],
   "source": [
    "json_alle = resp.json()"
   ]
  },
  {
   "cell_type": "code",
   "execution_count": 9,
   "metadata": {},
   "outputs": [],
   "source": [
    "class Landkreis:\n",
    "    AnzahlFaelle = 0\n",
    "    DifferenzVortag = 0\n",
    "    \n",
    "    def __init__(self, bezeichnung):\n",
    "        self.bezeichnung = bezeichnung\n",
    "    \n",
    "    def __str__(self):\n",
    "        return self.bezeichnung+'\\n         Fälle insgesamt: '+str(self.AnzahlFaelle)+ ', Differenz Vortag: '+str(self.DifferenzVortag)"
   ]
  },
  {
   "cell_type": "code",
   "execution_count": 10,
   "metadata": {},
   "outputs": [],
   "source": [
    "LKs = [] # leere Liste\n",
    "for kreis in landkreise:\n",
    "    LKs.append(Landkreis(kreis))"
   ]
  },
  {
   "cell_type": "code",
   "execution_count": 11,
   "metadata": {},
   "outputs": [],
   "source": [
    "for fall in json_alle[\"features\"]:\n",
    "   # print(type(fall))\n",
    "    lk = fall[\"attributes\"][\"Landkreis\"]\n",
    "    neu = fall[\"attributes\"][\"NeuerFall\"]\n",
    "    anzahlfall = fall[\"attributes\"][\"AnzahlFall\"]\n",
    "    for kreis in LKs:\n",
    "        if kreis.bezeichnung == lk:\n",
    "            if neu in (0,1):\n",
    "                    kreis.AnzahlFaelle += anzahlfall\n",
    "            if neu in (-1,1):\n",
    "                    kreis.DifferenzVortag  += anzahlfall"
   ]
  },
  {
   "cell_type": "code",
   "execution_count": 12,
   "metadata": {},
   "outputs": [
    {
     "name": "stdout",
     "output_type": "stream",
     "text": [
      "LK Friesland\n",
      "         Fälle insgesamt: 46, Differenz Vortag: 1\n",
      "SK Wilhelmshaven\n",
      "         Fälle insgesamt: 35, Differenz Vortag: 0\n",
      "LK Gießen\n",
      "         Fälle insgesamt: 350, Differenz Vortag: 0\n"
     ]
    }
   ],
   "source": [
    "for kreis in LKs:\n",
    "    print(kreis)"
   ]
  }
 ],
 "metadata": {
  "kernelspec": {
   "display_name": "Python 3",
   "language": "python",
   "name": "python3"
  },
  "language_info": {
   "codemirror_mode": {
    "name": "ipython",
    "version": 3
   },
   "file_extension": ".py",
   "mimetype": "text/x-python",
   "name": "python",
   "nbconvert_exporter": "python",
   "pygments_lexer": "ipython3",
   "version": "3.7.1"
  }
 },
 "nbformat": 4,
 "nbformat_minor": 2
}
